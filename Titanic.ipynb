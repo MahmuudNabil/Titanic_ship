{
  "nbformat": 4,
  "nbformat_minor": 0,
  "metadata": {
    "colab": {
      "name": "Titanic.ipynb",
      "provenance": [],
      "collapsed_sections": [],
      "toc_visible": true,
      "include_colab_link": true
    },
    "kernelspec": {
      "name": "python3",
      "display_name": "Python 3"
    }
  },
  "cells": [
    {
      "cell_type": "markdown",
      "metadata": {
        "id": "view-in-github",
        "colab_type": "text"
      },
      "source": [
        "<a href=\"https://colab.research.google.com/github/mahmoud2571587/Titanic_ship/blob/master/Titanic.ipynb\" target=\"_parent\"><img src=\"https://colab.research.google.com/assets/colab-badge.svg\" alt=\"Open In Colab\"/></a>"
      ]
    },
    {
      "cell_type": "markdown",
      "metadata": {
        "id": "2nXBrmc-ah6n"
      },
      "source": [
        "<h1><center>Titanic Problem</center></h1>\n"
      ]
    },
    {
      "cell_type": "markdown",
      "metadata": {
        "id": "iCZy5CXjBFlj"
      },
      "source": [
        "**Import Libraries**"
      ]
    },
    {
      "cell_type": "code",
      "metadata": {
        "id": "X39wjgS45ah7"
      },
      "source": [
        "import pandas as pd\n",
        "import numpy as np  \n",
        "import matplotlib.pyplot as plt\n",
        "import seaborn as sns"
      ],
      "execution_count": null,
      "outputs": []
    },
    {
      "cell_type": "markdown",
      "metadata": {
        "id": "n773SABUmwda"
      },
      "source": [
        "Mount Drive"
      ]
    },
    {
      "cell_type": "code",
      "metadata": {
        "id": "I_HXfDTBmiEd",
        "outputId": "b3ce0fe2-2465-43c1-9539-17c5b9aac5cf",
        "colab": {
          "base_uri": "https://localhost:8080/"
        }
      },
      "source": [
        "from google.colab import drive\n",
        "drive.mount('/content/drive')"
      ],
      "execution_count": null,
      "outputs": [
        {
          "output_type": "stream",
          "text": [
            "ERROR:root:Internal Python error in the inspect module.\n",
            "Below is the traceback from this internal error.\n",
            "\n"
          ],
          "name": "stderr"
        },
        {
          "output_type": "stream",
          "text": [
            "Traceback (most recent call last):\n",
            "  File \"/usr/local/lib/python3.6/dist-packages/ipykernel/kernelbase.py\", line 729, in _input_request\n",
            "    ident, reply = self.session.recv(self.stdin_socket, 0)\n",
            "  File \"/usr/local/lib/python3.6/dist-packages/jupyter_client/session.py\", line 803, in recv\n",
            "    msg_list = socket.recv_multipart(mode, copy=copy)\n",
            "  File \"/usr/local/lib/python3.6/dist-packages/zmq/sugar/socket.py\", line 491, in recv_multipart\n",
            "    parts = [self.recv(flags, copy=copy, track=track)]\n",
            "  File \"zmq/backend/cython/socket.pyx\", line 791, in zmq.backend.cython.socket.Socket.recv\n",
            "  File \"zmq/backend/cython/socket.pyx\", line 827, in zmq.backend.cython.socket.Socket.recv\n",
            "  File \"zmq/backend/cython/socket.pyx\", line 186, in zmq.backend.cython.socket._recv_copy\n",
            "  File \"zmq/backend/cython/checkrc.pxd\", line 13, in zmq.backend.cython.checkrc._check_rc\n",
            "KeyboardInterrupt\n",
            "\n",
            "During handling of the above exception, another exception occurred:\n",
            "\n",
            "Traceback (most recent call last):\n",
            "  File \"/usr/local/lib/python3.6/dist-packages/IPython/core/interactiveshell.py\", line 2882, in run_code\n",
            "    exec(code_obj, self.user_global_ns, self.user_ns)\n",
            "  File \"<ipython-input-2-d5df0069828e>\", line 2, in <module>\n",
            "    drive.mount('/content/drive')\n",
            "  File \"/usr/local/lib/python3.6/dist-packages/google/colab/drive.py\", line 251, in mount\n",
            "    fifo_file.write(get_code(auth_prompt) + '\\n')\n",
            "  File \"/usr/local/lib/python3.6/dist-packages/ipykernel/kernelbase.py\", line 704, in raw_input\n",
            "    password=False,\n",
            "  File \"/usr/local/lib/python3.6/dist-packages/ipykernel/kernelbase.py\", line 734, in _input_request\n",
            "    raise KeyboardInterrupt\n",
            "KeyboardInterrupt\n",
            "\n",
            "During handling of the above exception, another exception occurred:\n",
            "\n",
            "Traceback (most recent call last):\n",
            "  File \"/usr/local/lib/python3.6/dist-packages/IPython/core/interactiveshell.py\", line 1823, in showtraceback\n",
            "    stb = value._render_traceback_()\n",
            "AttributeError: 'KeyboardInterrupt' object has no attribute '_render_traceback_'\n",
            "\n",
            "During handling of the above exception, another exception occurred:\n",
            "\n",
            "Traceback (most recent call last):\n",
            "  File \"/usr/local/lib/python3.6/dist-packages/IPython/core/ultratb.py\", line 1132, in get_records\n",
            "    return _fixed_getinnerframes(etb, number_of_lines_of_context, tb_offset)\n",
            "  File \"/usr/local/lib/python3.6/dist-packages/IPython/core/ultratb.py\", line 313, in wrapped\n",
            "    return f(*args, **kwargs)\n",
            "  File \"/usr/local/lib/python3.6/dist-packages/IPython/core/ultratb.py\", line 358, in _fixed_getinnerframes\n",
            "    records = fix_frame_records_filenames(inspect.getinnerframes(etb, context))\n",
            "  File \"/usr/lib/python3.6/inspect.py\", line 1490, in getinnerframes\n",
            "    frameinfo = (tb.tb_frame,) + getframeinfo(tb, context)\n",
            "  File \"/usr/lib/python3.6/inspect.py\", line 1448, in getframeinfo\n",
            "    filename = getsourcefile(frame) or getfile(frame)\n",
            "  File \"/usr/lib/python3.6/inspect.py\", line 696, in getsourcefile\n",
            "    if getattr(getmodule(object, filename), '__loader__', None) is not None:\n",
            "  File \"/usr/lib/python3.6/inspect.py\", line 742, in getmodule\n",
            "    os.path.realpath(f)] = module.__name__\n",
            "  File \"/usr/lib/python3.6/posixpath.py\", line 395, in realpath\n",
            "    path, ok = _joinrealpath(filename[:0], filename, {})\n",
            "  File \"/usr/lib/python3.6/posixpath.py\", line 429, in _joinrealpath\n",
            "    if not islink(newpath):\n",
            "  File \"/usr/lib/python3.6/posixpath.py\", line 171, in islink\n",
            "    st = os.lstat(path)\n",
            "KeyboardInterrupt\n"
          ],
          "name": "stdout"
        },
        {
          "output_type": "error",
          "ename": "TypeError",
          "evalue": "ignored",
          "traceback": [
            "\u001b[0;31m---------------------------------------------------------------------------\u001b[0m",
            "\u001b[0;31mKeyboardInterrupt\u001b[0m                         Traceback (most recent call last)",
            "\u001b[0;32m/usr/local/lib/python3.6/dist-packages/ipykernel/kernelbase.py\u001b[0m in \u001b[0;36m_input_request\u001b[0;34m(self, prompt, ident, parent, password)\u001b[0m\n\u001b[1;32m    728\u001b[0m             \u001b[0;32mtry\u001b[0m\u001b[0;34m:\u001b[0m\u001b[0;34m\u001b[0m\u001b[0;34m\u001b[0m\u001b[0m\n\u001b[0;32m--> 729\u001b[0;31m                 \u001b[0mident\u001b[0m\u001b[0;34m,\u001b[0m \u001b[0mreply\u001b[0m \u001b[0;34m=\u001b[0m \u001b[0mself\u001b[0m\u001b[0;34m.\u001b[0m\u001b[0msession\u001b[0m\u001b[0;34m.\u001b[0m\u001b[0mrecv\u001b[0m\u001b[0;34m(\u001b[0m\u001b[0mself\u001b[0m\u001b[0;34m.\u001b[0m\u001b[0mstdin_socket\u001b[0m\u001b[0;34m,\u001b[0m \u001b[0;36m0\u001b[0m\u001b[0;34m)\u001b[0m\u001b[0;34m\u001b[0m\u001b[0;34m\u001b[0m\u001b[0m\n\u001b[0m\u001b[1;32m    730\u001b[0m             \u001b[0;32mexcept\u001b[0m \u001b[0mException\u001b[0m\u001b[0;34m:\u001b[0m\u001b[0;34m\u001b[0m\u001b[0;34m\u001b[0m\u001b[0m\n",
            "\u001b[0;32m/usr/local/lib/python3.6/dist-packages/jupyter_client/session.py\u001b[0m in \u001b[0;36mrecv\u001b[0;34m(self, socket, mode, content, copy)\u001b[0m\n\u001b[1;32m    802\u001b[0m         \u001b[0;32mtry\u001b[0m\u001b[0;34m:\u001b[0m\u001b[0;34m\u001b[0m\u001b[0;34m\u001b[0m\u001b[0m\n\u001b[0;32m--> 803\u001b[0;31m             \u001b[0mmsg_list\u001b[0m \u001b[0;34m=\u001b[0m \u001b[0msocket\u001b[0m\u001b[0;34m.\u001b[0m\u001b[0mrecv_multipart\u001b[0m\u001b[0;34m(\u001b[0m\u001b[0mmode\u001b[0m\u001b[0;34m,\u001b[0m \u001b[0mcopy\u001b[0m\u001b[0;34m=\u001b[0m\u001b[0mcopy\u001b[0m\u001b[0;34m)\u001b[0m\u001b[0;34m\u001b[0m\u001b[0;34m\u001b[0m\u001b[0m\n\u001b[0m\u001b[1;32m    804\u001b[0m         \u001b[0;32mexcept\u001b[0m \u001b[0mzmq\u001b[0m\u001b[0;34m.\u001b[0m\u001b[0mZMQError\u001b[0m \u001b[0;32mas\u001b[0m \u001b[0me\u001b[0m\u001b[0;34m:\u001b[0m\u001b[0;34m\u001b[0m\u001b[0;34m\u001b[0m\u001b[0m\n",
            "\u001b[0;32m/usr/local/lib/python3.6/dist-packages/zmq/sugar/socket.py\u001b[0m in \u001b[0;36mrecv_multipart\u001b[0;34m(self, flags, copy, track)\u001b[0m\n\u001b[1;32m    490\u001b[0m         \"\"\"\n\u001b[0;32m--> 491\u001b[0;31m         \u001b[0mparts\u001b[0m \u001b[0;34m=\u001b[0m \u001b[0;34m[\u001b[0m\u001b[0mself\u001b[0m\u001b[0;34m.\u001b[0m\u001b[0mrecv\u001b[0m\u001b[0;34m(\u001b[0m\u001b[0mflags\u001b[0m\u001b[0;34m,\u001b[0m \u001b[0mcopy\u001b[0m\u001b[0;34m=\u001b[0m\u001b[0mcopy\u001b[0m\u001b[0;34m,\u001b[0m \u001b[0mtrack\u001b[0m\u001b[0;34m=\u001b[0m\u001b[0mtrack\u001b[0m\u001b[0;34m)\u001b[0m\u001b[0;34m]\u001b[0m\u001b[0;34m\u001b[0m\u001b[0;34m\u001b[0m\u001b[0m\n\u001b[0m\u001b[1;32m    492\u001b[0m         \u001b[0;31m# have first part already, only loop while more to receive\u001b[0m\u001b[0;34m\u001b[0m\u001b[0;34m\u001b[0m\u001b[0;34m\u001b[0m\u001b[0m\n",
            "\u001b[0;32mzmq/backend/cython/socket.pyx\u001b[0m in \u001b[0;36mzmq.backend.cython.socket.Socket.recv\u001b[0;34m()\u001b[0m\n",
            "\u001b[0;32mzmq/backend/cython/socket.pyx\u001b[0m in \u001b[0;36mzmq.backend.cython.socket.Socket.recv\u001b[0;34m()\u001b[0m\n",
            "\u001b[0;32mzmq/backend/cython/socket.pyx\u001b[0m in \u001b[0;36mzmq.backend.cython.socket._recv_copy\u001b[0;34m()\u001b[0m\n",
            "\u001b[0;32m/usr/local/lib/python3.6/dist-packages/zmq/backend/cython/checkrc.pxd\u001b[0m in \u001b[0;36mzmq.backend.cython.checkrc._check_rc\u001b[0;34m()\u001b[0m\n",
            "\u001b[0;31mKeyboardInterrupt\u001b[0m: ",
            "\nDuring handling of the above exception, another exception occurred:\n",
            "\u001b[0;31mKeyboardInterrupt\u001b[0m                         Traceback (most recent call last)",
            "\u001b[0;32m/usr/local/lib/python3.6/dist-packages/IPython/core/interactiveshell.py\u001b[0m in \u001b[0;36mrun_code\u001b[0;34m(self, code_obj, result)\u001b[0m\n\u001b[1;32m   2881\u001b[0m                 \u001b[0;31m#rprint('Running code', repr(code_obj)) # dbg\u001b[0m\u001b[0;34m\u001b[0m\u001b[0;34m\u001b[0m\u001b[0;34m\u001b[0m\u001b[0m\n\u001b[0;32m-> 2882\u001b[0;31m                 \u001b[0mexec\u001b[0m\u001b[0;34m(\u001b[0m\u001b[0mcode_obj\u001b[0m\u001b[0;34m,\u001b[0m \u001b[0mself\u001b[0m\u001b[0;34m.\u001b[0m\u001b[0muser_global_ns\u001b[0m\u001b[0;34m,\u001b[0m \u001b[0mself\u001b[0m\u001b[0;34m.\u001b[0m\u001b[0muser_ns\u001b[0m\u001b[0;34m)\u001b[0m\u001b[0;34m\u001b[0m\u001b[0;34m\u001b[0m\u001b[0m\n\u001b[0m\u001b[1;32m   2883\u001b[0m             \u001b[0;32mfinally\u001b[0m\u001b[0;34m:\u001b[0m\u001b[0;34m\u001b[0m\u001b[0;34m\u001b[0m\u001b[0m\n",
            "\u001b[0;32m<ipython-input-2-d5df0069828e>\u001b[0m in \u001b[0;36m<module>\u001b[0;34m()\u001b[0m\n\u001b[1;32m      1\u001b[0m \u001b[0;32mfrom\u001b[0m \u001b[0mgoogle\u001b[0m\u001b[0;34m.\u001b[0m\u001b[0mcolab\u001b[0m \u001b[0;32mimport\u001b[0m \u001b[0mdrive\u001b[0m\u001b[0;34m\u001b[0m\u001b[0;34m\u001b[0m\u001b[0m\n\u001b[0;32m----> 2\u001b[0;31m \u001b[0mdrive\u001b[0m\u001b[0;34m.\u001b[0m\u001b[0mmount\u001b[0m\u001b[0;34m(\u001b[0m\u001b[0;34m'/content/drive'\u001b[0m\u001b[0;34m)\u001b[0m\u001b[0;34m\u001b[0m\u001b[0;34m\u001b[0m\u001b[0m\n\u001b[0m",
            "\u001b[0;32m/usr/local/lib/python3.6/dist-packages/google/colab/drive.py\u001b[0m in \u001b[0;36mmount\u001b[0;34m(mountpoint, force_remount, timeout_ms, use_metadata_server)\u001b[0m\n\u001b[1;32m    250\u001b[0m         \u001b[0;32mwith\u001b[0m \u001b[0mopen\u001b[0m\u001b[0;34m(\u001b[0m\u001b[0mfifo\u001b[0m\u001b[0;34m,\u001b[0m \u001b[0;34m'w'\u001b[0m\u001b[0;34m)\u001b[0m \u001b[0;32mas\u001b[0m \u001b[0mfifo_file\u001b[0m\u001b[0;34m:\u001b[0m\u001b[0;34m\u001b[0m\u001b[0;34m\u001b[0m\u001b[0m\n\u001b[0;32m--> 251\u001b[0;31m           \u001b[0mfifo_file\u001b[0m\u001b[0;34m.\u001b[0m\u001b[0mwrite\u001b[0m\u001b[0;34m(\u001b[0m\u001b[0mget_code\u001b[0m\u001b[0;34m(\u001b[0m\u001b[0mauth_prompt\u001b[0m\u001b[0;34m)\u001b[0m \u001b[0;34m+\u001b[0m \u001b[0;34m'\\n'\u001b[0m\u001b[0;34m)\u001b[0m\u001b[0;34m\u001b[0m\u001b[0;34m\u001b[0m\u001b[0m\n\u001b[0m\u001b[1;32m    252\u001b[0m       \u001b[0mwrote_to_fifo\u001b[0m \u001b[0;34m=\u001b[0m \u001b[0;32mTrue\u001b[0m\u001b[0;34m\u001b[0m\u001b[0;34m\u001b[0m\u001b[0m\n",
            "\u001b[0;32m/usr/local/lib/python3.6/dist-packages/ipykernel/kernelbase.py\u001b[0m in \u001b[0;36mraw_input\u001b[0;34m(self, prompt)\u001b[0m\n\u001b[1;32m    703\u001b[0m             \u001b[0mself\u001b[0m\u001b[0;34m.\u001b[0m\u001b[0m_parent_header\u001b[0m\u001b[0;34m,\u001b[0m\u001b[0;34m\u001b[0m\u001b[0;34m\u001b[0m\u001b[0m\n\u001b[0;32m--> 704\u001b[0;31m             \u001b[0mpassword\u001b[0m\u001b[0;34m=\u001b[0m\u001b[0;32mFalse\u001b[0m\u001b[0;34m,\u001b[0m\u001b[0;34m\u001b[0m\u001b[0;34m\u001b[0m\u001b[0m\n\u001b[0m\u001b[1;32m    705\u001b[0m         )\n",
            "\u001b[0;32m/usr/local/lib/python3.6/dist-packages/ipykernel/kernelbase.py\u001b[0m in \u001b[0;36m_input_request\u001b[0;34m(self, prompt, ident, parent, password)\u001b[0m\n\u001b[1;32m    733\u001b[0m                 \u001b[0;31m# re-raise KeyboardInterrupt, to truncate traceback\u001b[0m\u001b[0;34m\u001b[0m\u001b[0;34m\u001b[0m\u001b[0;34m\u001b[0m\u001b[0m\n\u001b[0;32m--> 734\u001b[0;31m                 \u001b[0;32mraise\u001b[0m \u001b[0mKeyboardInterrupt\u001b[0m\u001b[0;34m\u001b[0m\u001b[0;34m\u001b[0m\u001b[0m\n\u001b[0m\u001b[1;32m    735\u001b[0m             \u001b[0;32melse\u001b[0m\u001b[0;34m:\u001b[0m\u001b[0;34m\u001b[0m\u001b[0;34m\u001b[0m\u001b[0m\n",
            "\u001b[0;31mKeyboardInterrupt\u001b[0m: ",
            "\nDuring handling of the above exception, another exception occurred:\n",
            "\u001b[0;31mAttributeError\u001b[0m                            Traceback (most recent call last)",
            "\u001b[0;32m/usr/local/lib/python3.6/dist-packages/IPython/core/interactiveshell.py\u001b[0m in \u001b[0;36mshowtraceback\u001b[0;34m(self, exc_tuple, filename, tb_offset, exception_only)\u001b[0m\n\u001b[1;32m   1822\u001b[0m                         \u001b[0;31m# in the engines. This should return a list of strings.\u001b[0m\u001b[0;34m\u001b[0m\u001b[0;34m\u001b[0m\u001b[0;34m\u001b[0m\u001b[0m\n\u001b[0;32m-> 1823\u001b[0;31m                         \u001b[0mstb\u001b[0m \u001b[0;34m=\u001b[0m \u001b[0mvalue\u001b[0m\u001b[0;34m.\u001b[0m\u001b[0m_render_traceback_\u001b[0m\u001b[0;34m(\u001b[0m\u001b[0;34m)\u001b[0m\u001b[0;34m\u001b[0m\u001b[0;34m\u001b[0m\u001b[0m\n\u001b[0m\u001b[1;32m   1824\u001b[0m                     \u001b[0;32mexcept\u001b[0m \u001b[0mException\u001b[0m\u001b[0;34m:\u001b[0m\u001b[0;34m\u001b[0m\u001b[0;34m\u001b[0m\u001b[0m\n",
            "\u001b[0;31mAttributeError\u001b[0m: 'KeyboardInterrupt' object has no attribute '_render_traceback_'",
            "\nDuring handling of the above exception, another exception occurred:\n",
            "\u001b[0;31mTypeError\u001b[0m                                 Traceback (most recent call last)",
            "\u001b[0;32m/usr/local/lib/python3.6/dist-packages/IPython/core/interactiveshell.py\u001b[0m in \u001b[0;36mrun_code\u001b[0;34m(self, code_obj, result)\u001b[0m\n\u001b[1;32m   2897\u001b[0m             \u001b[0;32mif\u001b[0m \u001b[0mresult\u001b[0m \u001b[0;32mis\u001b[0m \u001b[0;32mnot\u001b[0m \u001b[0;32mNone\u001b[0m\u001b[0;34m:\u001b[0m\u001b[0;34m\u001b[0m\u001b[0;34m\u001b[0m\u001b[0m\n\u001b[1;32m   2898\u001b[0m                 \u001b[0mresult\u001b[0m\u001b[0;34m.\u001b[0m\u001b[0merror_in_exec\u001b[0m \u001b[0;34m=\u001b[0m \u001b[0msys\u001b[0m\u001b[0;34m.\u001b[0m\u001b[0mexc_info\u001b[0m\u001b[0;34m(\u001b[0m\u001b[0;34m)\u001b[0m\u001b[0;34m[\u001b[0m\u001b[0;36m1\u001b[0m\u001b[0;34m]\u001b[0m\u001b[0;34m\u001b[0m\u001b[0;34m\u001b[0m\u001b[0m\n\u001b[0;32m-> 2899\u001b[0;31m             \u001b[0mself\u001b[0m\u001b[0;34m.\u001b[0m\u001b[0mshowtraceback\u001b[0m\u001b[0;34m(\u001b[0m\u001b[0;34m)\u001b[0m\u001b[0;34m\u001b[0m\u001b[0;34m\u001b[0m\u001b[0m\n\u001b[0m\u001b[1;32m   2900\u001b[0m         \u001b[0;32melse\u001b[0m\u001b[0;34m:\u001b[0m\u001b[0;34m\u001b[0m\u001b[0;34m\u001b[0m\u001b[0m\n\u001b[1;32m   2901\u001b[0m             \u001b[0moutflag\u001b[0m \u001b[0;34m=\u001b[0m \u001b[0;36m0\u001b[0m\u001b[0;34m\u001b[0m\u001b[0;34m\u001b[0m\u001b[0m\n",
            "\u001b[0;32m/usr/local/lib/python3.6/dist-packages/IPython/core/interactiveshell.py\u001b[0m in \u001b[0;36mshowtraceback\u001b[0;34m(self, exc_tuple, filename, tb_offset, exception_only)\u001b[0m\n\u001b[1;32m   1824\u001b[0m                     \u001b[0;32mexcept\u001b[0m \u001b[0mException\u001b[0m\u001b[0;34m:\u001b[0m\u001b[0;34m\u001b[0m\u001b[0;34m\u001b[0m\u001b[0m\n\u001b[1;32m   1825\u001b[0m                         stb = self.InteractiveTB.structured_traceback(etype,\n\u001b[0;32m-> 1826\u001b[0;31m                                             value, tb, tb_offset=tb_offset)\n\u001b[0m\u001b[1;32m   1827\u001b[0m \u001b[0;34m\u001b[0m\u001b[0m\n\u001b[1;32m   1828\u001b[0m                     \u001b[0mself\u001b[0m\u001b[0;34m.\u001b[0m\u001b[0m_showtraceback\u001b[0m\u001b[0;34m(\u001b[0m\u001b[0metype\u001b[0m\u001b[0;34m,\u001b[0m \u001b[0mvalue\u001b[0m\u001b[0;34m,\u001b[0m \u001b[0mstb\u001b[0m\u001b[0;34m)\u001b[0m\u001b[0;34m\u001b[0m\u001b[0;34m\u001b[0m\u001b[0m\n",
            "\u001b[0;32m/usr/local/lib/python3.6/dist-packages/IPython/core/ultratb.py\u001b[0m in \u001b[0;36mstructured_traceback\u001b[0;34m(self, etype, value, tb, tb_offset, number_of_lines_of_context)\u001b[0m\n\u001b[1;32m   1409\u001b[0m         \u001b[0mself\u001b[0m\u001b[0;34m.\u001b[0m\u001b[0mtb\u001b[0m \u001b[0;34m=\u001b[0m \u001b[0mtb\u001b[0m\u001b[0;34m\u001b[0m\u001b[0;34m\u001b[0m\u001b[0m\n\u001b[1;32m   1410\u001b[0m         return FormattedTB.structured_traceback(\n\u001b[0;32m-> 1411\u001b[0;31m             self, etype, value, tb, tb_offset, number_of_lines_of_context)\n\u001b[0m\u001b[1;32m   1412\u001b[0m \u001b[0;34m\u001b[0m\u001b[0m\n\u001b[1;32m   1413\u001b[0m \u001b[0;34m\u001b[0m\u001b[0m\n",
            "\u001b[0;32m/usr/local/lib/python3.6/dist-packages/IPython/core/ultratb.py\u001b[0m in \u001b[0;36mstructured_traceback\u001b[0;34m(self, etype, value, tb, tb_offset, number_of_lines_of_context)\u001b[0m\n\u001b[1;32m   1317\u001b[0m             \u001b[0;31m# Verbose modes need a full traceback\u001b[0m\u001b[0;34m\u001b[0m\u001b[0;34m\u001b[0m\u001b[0;34m\u001b[0m\u001b[0m\n\u001b[1;32m   1318\u001b[0m             return VerboseTB.structured_traceback(\n\u001b[0;32m-> 1319\u001b[0;31m                 \u001b[0mself\u001b[0m\u001b[0;34m,\u001b[0m \u001b[0metype\u001b[0m\u001b[0;34m,\u001b[0m \u001b[0mvalue\u001b[0m\u001b[0;34m,\u001b[0m \u001b[0mtb\u001b[0m\u001b[0;34m,\u001b[0m \u001b[0mtb_offset\u001b[0m\u001b[0;34m,\u001b[0m \u001b[0mnumber_of_lines_of_context\u001b[0m\u001b[0;34m\u001b[0m\u001b[0;34m\u001b[0m\u001b[0m\n\u001b[0m\u001b[1;32m   1320\u001b[0m             )\n\u001b[1;32m   1321\u001b[0m         \u001b[0;32melse\u001b[0m\u001b[0;34m:\u001b[0m\u001b[0;34m\u001b[0m\u001b[0;34m\u001b[0m\u001b[0m\n",
            "\u001b[0;32m/usr/local/lib/python3.6/dist-packages/IPython/core/ultratb.py\u001b[0m in \u001b[0;36mstructured_traceback\u001b[0;34m(self, etype, evalue, etb, tb_offset, number_of_lines_of_context)\u001b[0m\n\u001b[1;32m   1180\u001b[0m             \u001b[0mexception\u001b[0m \u001b[0;34m=\u001b[0m \u001b[0mself\u001b[0m\u001b[0;34m.\u001b[0m\u001b[0mget_parts_of_chained_exception\u001b[0m\u001b[0;34m(\u001b[0m\u001b[0mevalue\u001b[0m\u001b[0;34m)\u001b[0m\u001b[0;34m\u001b[0m\u001b[0;34m\u001b[0m\u001b[0m\n\u001b[1;32m   1181\u001b[0m             \u001b[0;32mif\u001b[0m \u001b[0mexception\u001b[0m\u001b[0;34m:\u001b[0m\u001b[0;34m\u001b[0m\u001b[0;34m\u001b[0m\u001b[0m\n\u001b[0;32m-> 1182\u001b[0;31m                 \u001b[0mformatted_exceptions\u001b[0m \u001b[0;34m+=\u001b[0m \u001b[0mself\u001b[0m\u001b[0;34m.\u001b[0m\u001b[0mprepare_chained_exception_message\u001b[0m\u001b[0;34m(\u001b[0m\u001b[0mevalue\u001b[0m\u001b[0;34m.\u001b[0m\u001b[0m__cause__\u001b[0m\u001b[0;34m)\u001b[0m\u001b[0;34m\u001b[0m\u001b[0;34m\u001b[0m\u001b[0m\n\u001b[0m\u001b[1;32m   1183\u001b[0m                 \u001b[0metype\u001b[0m\u001b[0;34m,\u001b[0m \u001b[0mevalue\u001b[0m\u001b[0;34m,\u001b[0m \u001b[0metb\u001b[0m \u001b[0;34m=\u001b[0m \u001b[0mexception\u001b[0m\u001b[0;34m\u001b[0m\u001b[0;34m\u001b[0m\u001b[0m\n\u001b[1;32m   1184\u001b[0m             \u001b[0;32melse\u001b[0m\u001b[0;34m:\u001b[0m\u001b[0;34m\u001b[0m\u001b[0;34m\u001b[0m\u001b[0m\n",
            "\u001b[0;31mTypeError\u001b[0m: must be str, not list"
          ]
        },
        {
          "output_type": "stream",
          "text": [
            "ERROR:tornado.general:Uncaught exception in ZMQStream callback\n",
            "Traceback (most recent call last):\n",
            "  File \"/usr/local/lib/python3.6/dist-packages/zmq/eventloop/zmqstream.py\", line 444, in _run_callback\n",
            "    callback(*args, **kwargs)\n",
            "  File \"/usr/local/lib/python3.6/dist-packages/tornado/stack_context.py\", line 300, in null_wrapper\n",
            "    return fn(*args, **kwargs)\n",
            "  File \"/usr/local/lib/python3.6/dist-packages/ipykernel/kernelbase.py\", line 283, in dispatcher\n",
            "    return self.dispatch_shell(stream, msg)\n",
            "  File \"/usr/local/lib/python3.6/dist-packages/ipykernel/kernelbase.py\", line 233, in dispatch_shell\n",
            "    handler(stream, idents, msg)\n",
            "  File \"/usr/local/lib/python3.6/dist-packages/ipykernel/kernelbase.py\", line 421, in execute_request\n",
            "    self._abort_queues()\n",
            "  File \"/usr/local/lib/python3.6/dist-packages/ipykernel/kernelbase.py\", line 636, in _abort_queues\n",
            "    self._abort_queue(stream)\n",
            "  File \"/usr/local/lib/python3.6/dist-packages/ipykernel/kernelbase.py\", line 654, in _abort_queue\n",
            "    self._publish_status('busy', parent=msg)\n",
            "  File \"/usr/local/lib/python3.6/dist-packages/ipykernel/kernelbase.py\", line 327, in _publish_status\n",
            "    ident=self._topic('status'),\n",
            "  File \"/usr/local/lib/python3.6/dist-packages/jupyter_client/session.py\", line 702, in send\n",
            "    if not isinstance(stream, zmq.Socket):\n",
            "KeyboardInterrupt\n"
          ],
          "name": "stderr"
        }
      ]
    },
    {
      "cell_type": "markdown",
      "metadata": {
        "id": "9m2GJTwWBHrg"
      },
      "source": [
        "**Read Data**"
      ]
    },
    {
      "cell_type": "code",
      "metadata": {
        "id": "5aSccxSKSJ2x"
      },
      "source": [
        "train = pd.read_csv('/content/drive/My Drive/Kaggle/Titanic/Dataset/train.csv')\n",
        "test  = pd.read_csv('/content/drive/My Drive/Kaggle/Titanic/Dataset/test.csv')"
      ],
      "execution_count": null,
      "outputs": []
    },
    {
      "cell_type": "markdown",
      "metadata": {
        "id": "p_az24WSZ4sg"
      },
      "source": [
        "**<h3> Explore Data </h3>**"
      ]
    },
    {
      "cell_type": "code",
      "metadata": {
        "id": "y6RERViIbcg-"
      },
      "source": [
        "train.head()"
      ],
      "execution_count": null,
      "outputs": []
    },
    {
      "cell_type": "code",
      "metadata": {
        "id": "IJHEwmQhvZq9"
      },
      "source": [
        "test.head()"
      ],
      "execution_count": null,
      "outputs": []
    },
    {
      "cell_type": "markdown",
      "metadata": {
        "id": "784uWljky-pT"
      },
      "source": [
        "pclass feature need to convert datatype from int64 to string"
      ]
    },
    {
      "cell_type": "code",
      "metadata": {
        "id": "MKo5nFeRvriJ"
      },
      "source": [
        "train.info()"
      ],
      "execution_count": null,
      "outputs": []
    },
    {
      "cell_type": "code",
      "metadata": {
        "id": "MviKVJvF3B8E"
      },
      "source": [
        "train.describe().T"
      ],
      "execution_count": null,
      "outputs": []
    },
    {
      "cell_type": "code",
      "metadata": {
        "id": "pXx2OMVJWXN_"
      },
      "source": [
        "train.describe(include=['O']).T"
      ],
      "execution_count": null,
      "outputs": []
    },
    {
      "cell_type": "markdown",
      "metadata": {
        "id": "ouf8PX9CyZTs"
      },
      "source": [
        "there is missing value in :- \n",
        "1.   Cabin    686\n",
        "2.   Age      177\n",
        "3.   Embarked 2"
      ]
    },
    {
      "cell_type": "code",
      "metadata": {
        "id": "87ce9CBEwwMn"
      },
      "source": [
        "# EXplore Missing Values\n",
        "train.isnull().sum().sort_values(ascending=False)"
      ],
      "execution_count": null,
      "outputs": []
    },
    {
      "cell_type": "code",
      "metadata": {
        "id": "oHLh2AZZeZjS"
      },
      "source": [
        "test.isnull().sum().sort_values(ascending=False)"
      ],
      "execution_count": null,
      "outputs": []
    },
    {
      "cell_type": "markdown",
      "metadata": {
        "id": "GsBVQchizWzk"
      },
      "source": [
        "**<h4>Visualize data </h4>**"
      ]
    },
    {
      "cell_type": "code",
      "metadata": {
        "id": "h4033l2DDZMJ"
      },
      "source": [
        "df_num = train[['Age','SibSp','Parch','Fare']]\n",
        "df_cat = train[['Survived' , 'Sex' , 'Pclass' , 'Embarked']]"
      ],
      "execution_count": null,
      "outputs": []
    },
    {
      "cell_type": "markdown",
      "metadata": {
        "id": "SayD0nYYEn2z"
      },
      "source": [
        "sibling , parch , Fare ==> need to log transformation"
      ]
    },
    {
      "cell_type": "code",
      "metadata": {
        "id": "9JiPFAutCo1F"
      },
      "source": [
        "for col in df_num.columns:\n",
        "  plt.hist(df_num[col])\n",
        "  plt.title(col)\n",
        "  plt.show()"
      ],
      "execution_count": null,
      "outputs": []
    },
    {
      "cell_type": "code",
      "metadata": {
        "id": "VuYuzNxRE5kH"
      },
      "source": [
        "for col in df_cat.columns:\n",
        "  sns.barplot( df_cat[col].value_counts().index,df_cat[col].value_counts() ).set_title(col)\n",
        "  plt.show()\n",
        "\n",
        "    "
      ],
      "execution_count": null,
      "outputs": []
    },
    {
      "cell_type": "code",
      "metadata": {
        "id": "PCwrCmay13k1"
      },
      "source": [
        "sns.countplot(x=\"Survived\" , hue=\"Sex\" , data=train)"
      ],
      "execution_count": null,
      "outputs": []
    },
    {
      "cell_type": "code",
      "metadata": {
        "id": "Vtq8SRBb73U-"
      },
      "source": [
        "train[['Sex' , 'Survived']].groupby(['Sex'],as_index=False).mean().sort_values(by='Survived' , ascending=False)"
      ],
      "execution_count": null,
      "outputs": []
    },
    {
      "cell_type": "code",
      "metadata": {
        "id": "zf1jQOuNIVse"
      },
      "source": [
        "sns.countplot(x=\"Survived\" , hue = \"Pclass\" , data=train)"
      ],
      "execution_count": null,
      "outputs": []
    },
    {
      "cell_type": "code",
      "metadata": {
        "id": "C2-58CrLwa1X"
      },
      "source": [
        "train[['Survived' , 'Pclass']].groupby(['Pclass']).mean().sort_values(by='Survived' , ascending=False)"
      ],
      "execution_count": null,
      "outputs": []
    },
    {
      "cell_type": "code",
      "metadata": {
        "id": "Py93lYsnKwsn"
      },
      "source": [
        "pd.pivot_table(train,values=\"Name\" , index=[\"Pclass\",\"Sex\"] , columns=\"Survived\",aggfunc=\"count\" )"
      ],
      "execution_count": null,
      "outputs": []
    },
    {
      "cell_type": "code",
      "metadata": {
        "id": "bucMJwf2xdkN"
      },
      "source": [
        "train[['Survived' , 'Sex' , 'Pclass']].groupby(['Pclass' , 'Sex']).mean().sort_values(by='Survived' , ascending=False)"
      ],
      "execution_count": null,
      "outputs": []
    },
    {
      "cell_type": "markdown",
      "metadata": {
        "id": "hJlv_Az9QS9a"
      },
      "source": [
        "most people died board from port 'S'<br>\n",
        "most people survived board from port 'S' also "
      ]
    },
    {
      "cell_type": "code",
      "metadata": {
        "id": "SQsVO_25LosW"
      },
      "source": [
        "sns.countplot(x=\"Survived\", hue=\"Embarked\",data=train)"
      ],
      "execution_count": null,
      "outputs": []
    },
    {
      "cell_type": "code",
      "metadata": {
        "id": "QTSUTbfNX3WX"
      },
      "source": [
        "#pd.pivot_table(train,values=\"Name\", index=['Pclass' , 'Embarked'] , columns=\"Age\",aggfunc=\"count\")\n",
        "sns.countplot(x='Embarked' , hue='Pclass',data=train)"
      ],
      "execution_count": null,
      "outputs": []
    },
    {
      "cell_type": "markdown",
      "metadata": {
        "id": "2NgdTL9rRWF6"
      },
      "source": [
        "there is correlation between : <br><hr>\n",
        "Pclass with Fare     ===>  (-55%) <br>\n",
        "sibSp  with Parch    ===>  (41%) <br>\n",
        "pclass with Age      ===>  (-37%) <br>\n",
        "Pclass with Survived ===>  (-34%) <br>\n",
        "sibSP  with Age      ===>  (-31%> <br>\n",
        "Fare with Survived   ===>   26% <br>\n",
        "parch  with Fare    ===> 22% <br>\n",
        "sibSp  with Fare    ===> 16% <br>\n",
        "\n"
      ]
    },
    {
      "cell_type": "code",
      "metadata": {
        "id": "cyT7axSoPX9P"
      },
      "source": [
        "sns.heatmap(train.corr(),annot=True)"
      ],
      "execution_count": null,
      "outputs": []
    },
    {
      "cell_type": "markdown",
      "metadata": {
        "id": "qpEkVYxH0jQT"
      },
      "source": [
        "Embarked , Age , Pclass , Survived  ====> have strong correlation<br><hr>\n",
        "then we can say that pclass '1' have most survived <br>\n",
        "and pclass'1' most of them from Emabrked 'C' <br>\n",
        "and Emabrked 'C' have greatest average of Age  <br><hr>\n",
        "so distribution passenger on pclass is depend on Age where class'1' has oldest passengers and pclass '3' has youngest passengers"
      ]
    },
    {
      "cell_type": "code",
      "metadata": {
        "id": "6dGgyg0nzBdk"
      },
      "source": [
        "train[['Embarked' , 'Age' ]].groupby(['Embarked' ]).mean().sort_values(by='Age' , ascending=False)"
      ],
      "execution_count": null,
      "outputs": []
    },
    {
      "cell_type": "code",
      "metadata": {
        "id": "3JFUqY3uOVmY"
      },
      "source": [
        "train[['Age' , 'Sex']].groupby(['Sex']).mean().sort_values(by='Age' , ascending=False)"
      ],
      "execution_count": null,
      "outputs": []
    },
    {
      "cell_type": "code",
      "metadata": {
        "id": "axi3Ej9_3cOc"
      },
      "source": [
        "train[['SibSp' ,  'Parch','Age']].groupby(['SibSp','Parch']).mean().sort_values(by ='Age' , ascending=False)"
      ],
      "execution_count": null,
      "outputs": []
    },
    {
      "cell_type": "code",
      "metadata": {
        "id": "bhSzRDv2OusJ"
      },
      "source": [
        "train[['Age' , 'Sex' , 'Pclass']].groupby(['Pclass' , 'Sex']).mean().sort_values(by='Age' , ascending=False)"
      ],
      "execution_count": null,
      "outputs": []
    },
    {
      "cell_type": "code",
      "metadata": {
        "id": "TGEPWz4pRdh3"
      },
      "source": [
        "age = pd.cut(train['Age'], [0, 18, 32,48,64,80])\n",
        "train.pivot_table('Survived', ['Sex', age], 'Pclass').plot.bar()"
      ],
      "execution_count": null,
      "outputs": []
    },
    {
      "cell_type": "markdown",
      "metadata": {
        "id": "f7HwMB6xBgXD"
      },
      "source": [
        "#Step 2:- preprocessing data "
      ]
    },
    {
      "cell_type": "markdown",
      "metadata": {
        "id": "XPOEoBgGepG6"
      },
      "source": [
        "**Combine train and test**"
      ]
    },
    {
      "cell_type": "code",
      "metadata": {
        "id": "A2rzdAxdeuNt"
      },
      "source": [
        "dataset = pd.concat((train,test) , sort = False).reset_index(drop=True)\n",
        "dataset = dataset.drop(columns =['Survived'], axis =1 )"
      ],
      "execution_count": null,
      "outputs": []
    },
    {
      "cell_type": "code",
      "metadata": {
        "id": "0GUXtC18e5VM"
      },
      "source": [
        "dataset.head()"
      ],
      "execution_count": null,
      "outputs": []
    },
    {
      "cell_type": "markdown",
      "metadata": {
        "id": "Hahs525Va15U"
      },
      "source": [
        "**Fill Missing Values**"
      ]
    },
    {
      "cell_type": "markdown",
      "metadata": {
        "id": "09CZt1tL1q-8"
      },
      "source": [
        "fill missing value in Age "
      ]
    },
    {
      "cell_type": "code",
      "metadata": {
        "id": "qx7DXzpQVcbx"
      },
      "source": [
        "#columns that have missing values :- \n",
        "#Cabin ==>  687 , Age ==> 177 , Embarked === > 2\n",
        "def impute_age(col):\n",
        "  Age    = col[0]\n",
        "  Pclass = col[1]\n",
        "  Sex    = col[2]\n",
        "  if pd.isnull(Age):\n",
        "    if Pclass==1:\n",
        "      if Sex == 'female':\n",
        "        return 34\n",
        "      else:\n",
        "        return 41\n",
        "    elif Pclass == 2:\n",
        "      if Sex == 'female':\n",
        "        return 28\n",
        "      else:\n",
        "        return 30\n",
        "    elif Pclass==3:\n",
        "      if Sex =='female':\n",
        "        return 21\n",
        "      else:\n",
        "        return 26\n",
        "  else:\n",
        "   return Age \n",
        "\n"
      ],
      "execution_count": null,
      "outputs": []
    },
    {
      "cell_type": "code",
      "metadata": {
        "id": "kXzZbeS00C44"
      },
      "source": [
        "dataset['Age']= dataset[['Age','Pclass' , 'Sex']].apply(impute_age,axis=1)"
      ],
      "execution_count": null,
      "outputs": []
    },
    {
      "cell_type": "markdown",
      "metadata": {
        "id": "7BamfY044pHE"
      },
      "source": [
        "fill Embarked missing value"
      ]
    },
    {
      "cell_type": "code",
      "metadata": {
        "id": "I90lbScu1nOe"
      },
      "source": [
        "dataset['Embarked'] = dataset['Embarked'].fillna(dataset['Embarked'].mode()[0])"
      ],
      "execution_count": null,
      "outputs": []
    },
    {
      "cell_type": "markdown",
      "metadata": {
        "id": "Glg2Pv425boq"
      },
      "source": [
        "Make Feature Engineer on Cabin feature then drop Cabin feature"
      ]
    },
    {
      "cell_type": "code",
      "metadata": {
        "id": "XScAxGIM5eqS"
      },
      "source": [
        "dataset['Cabin_ch'] = dataset.Cabin.str.extract('([A-Za-z])', expand=False)\n",
        "dataset.drop('Cabin',axis=1 , inplace=True)\n",
        "dataset.head()\n",
        "#dataset['Cabin'][0]"
      ],
      "execution_count": null,
      "outputs": []
    },
    {
      "cell_type": "code",
      "metadata": {
        "id": "j5fyJHspf2_r"
      },
      "source": [
        "# make intiution on Cabin_ch\n",
        "dataset['Cabin_ch'].value_counts()"
      ],
      "execution_count": null,
      "outputs": []
    },
    {
      "cell_type": "code",
      "metadata": {
        "id": "rqI-Y-gxhGcY"
      },
      "source": [
        "#explore correlation between Fare and Cabin_ch\n",
        "dataset.pivot_table('Fare' , 'Cabin_ch' , aggfunc='median').sort_values(by='Fare' , ascending=False)"
      ],
      "execution_count": null,
      "outputs": []
    },
    {
      "cell_type": "markdown",
      "metadata": {
        "id": "JcyW0t2QlDcn"
      },
      "source": [
        "during Explore Correlation between Cabin_ch and Embarked <br>\n",
        "foud that there is strong correlatin between Embarked and Cabin_ch where most 'Cabin_ch' from 'S' then 'C' then 'Q' BUT 'Q' is rare<br><hr>\n",
        "make visualizatin to show this correlation in more details and found that Cabin_ch ('C') most used either in Embarked'S' OR 'C' OR 'Q'"
      ]
    },
    {
      "cell_type": "code",
      "metadata": {
        "id": "ayDzjQI6h8al"
      },
      "source": [
        "dataset.pivot_table(values='Cabin_ch' , index='Embarked' , aggfunc='count').sort_values(by='Cabin_ch',ascending=False)"
      ],
      "execution_count": null,
      "outputs": []
    },
    {
      "cell_type": "code",
      "metadata": {
        "id": "18yYlIXLj1If"
      },
      "source": [
        "sns.countplot(y='Embarked' , hue='Cabin_ch',data=dataset)"
      ],
      "execution_count": null,
      "outputs": []
    },
    {
      "cell_type": "markdown",
      "metadata": {
        "id": "zxoDo7SKl-UQ"
      },
      "source": [
        "**Fill missing values in Cabin_ch**"
      ]
    },
    {
      "cell_type": "code",
      "metadata": {
        "id": "XeCtlggbiwUl"
      },
      "source": [
        "dataset['Cabin_ch']= dataset['Cabin_ch'].fillna('C')"
      ],
      "execution_count": null,
      "outputs": []
    },
    {
      "cell_type": "code",
      "metadata": {
        "id": "guot7xoagTVz"
      },
      "source": [
        "dataset.head()"
      ],
      "execution_count": null,
      "outputs": []
    },
    {
      "cell_type": "code",
      "metadata": {
        "id": "2hZawGFGh6m_"
      },
      "source": [
        "dataset['Fare']=dataset['Fare'].fillna(dataset['Fare'].median())"
      ],
      "execution_count": null,
      "outputs": []
    },
    {
      "cell_type": "code",
      "metadata": {
        "id": "34NrMejD46YW"
      },
      "source": [
        "dataset.isnull().sum().sort_values(ascending=False)"
      ],
      "execution_count": null,
      "outputs": []
    },
    {
      "cell_type": "code",
      "metadata": {
        "id": "E8OgssilMbUI"
      },
      "source": [
        "#check for Duplicate values\n",
        "duplicate = dataset[dataset.duplicated()]\n",
        "print(duplicate)"
      ],
      "execution_count": null,
      "outputs": []
    },
    {
      "cell_type": "markdown",
      "metadata": {
        "id": "R9eIv6fF5602"
      },
      "source": [
        "**<h4>Feature Enginnereing</h4>**"
      ]
    },
    {
      "cell_type": "markdown",
      "metadata": {
        "id": "2IWWqpaZDMFY"
      },
      "source": [
        "make title from Name "
      ]
    },
    {
      "cell_type": "code",
      "metadata": {
        "id": "IWnrWN-VDP2P"
      },
      "source": [
        "dataset['Title']= dataset.Name.apply(lambda x : x.split(',')[1].split('.')[0].strip())"
      ],
      "execution_count": null,
      "outputs": []
    },
    {
      "cell_type": "code",
      "metadata": {
        "id": "50zdpT9QEa4s"
      },
      "source": [
        "pd.unique(dataset['Title'])"
      ],
      "execution_count": null,
      "outputs": []
    },
    {
      "cell_type": "code",
      "metadata": {
        "id": "hv4P9vuSF2pt"
      },
      "source": [
        "dataset['Title'].value_counts()"
      ],
      "execution_count": null,
      "outputs": []
    },
    {
      "cell_type": "code",
      "metadata": {
        "id": "j0P9pfwNHRq5"
      },
      "source": [
        "#train['Title'].replace(['Dr' , 'Rev','Col',''])"
      ],
      "execution_count": null,
      "outputs": []
    },
    {
      "cell_type": "code",
      "metadata": {
        "id": "-ypdA2h_I6um"
      },
      "source": [
        "#train[['Title', 'Survived']].groupby(['Title'], as_index=False).mean().sort_values(by='Survived' , ascending=False)"
      ],
      "execution_count": null,
      "outputs": []
    },
    {
      "cell_type": "markdown",
      "metadata": {
        "id": "mnzycIjrKnuv"
      },
      "source": [
        "Convert Pclass data type  from number to string"
      ]
    },
    {
      "cell_type": "code",
      "metadata": {
        "id": "ApM2AcR9KhYk"
      },
      "source": [
        "dataset['Pclass'] = dataset['Pclass'].astype('str')"
      ],
      "execution_count": null,
      "outputs": []
    },
    {
      "cell_type": "markdown",
      "metadata": {
        "id": "mSXrKKl0MxID"
      },
      "source": [
        "*Drop Features* "
      ]
    },
    {
      "cell_type": "code",
      "metadata": {
        "id": "AxLN6d-RM2_P"
      },
      "source": [
        "dataset.drop(['PassengerId','Name' ,'Ticket'] , axis =1 , inplace=True)"
      ],
      "execution_count": null,
      "outputs": []
    },
    {
      "cell_type": "code",
      "metadata": {
        "id": "O4wpGNdWNPNg"
      },
      "source": [
        "dataset.head()"
      ],
      "execution_count": null,
      "outputs": []
    },
    {
      "cell_type": "markdown",
      "metadata": {
        "id": "VP0vDPOQMDXg"
      },
      "source": [
        "**<h4> Categorical Variables</h4>**\n",
        "\n"
      ]
    },
    {
      "cell_type": "code",
      "metadata": {
        "id": "rfT2_eYZMLwu"
      },
      "source": [
        "dataset = pd.get_dummies(dataset , drop_first= True).reset_index(drop=True)\n",
        "dataset.head() "
      ],
      "execution_count": null,
      "outputs": []
    },
    {
      "cell_type": "markdown",
      "metadata": {
        "id": "RGx97lZYe49w"
      },
      "source": [
        "Split Data for Independent and dependent Variables"
      ]
    },
    {
      "cell_type": "code",
      "metadata": {
        "id": "5ns63uETOXjr"
      },
      "source": [
        "y=train['Survived']\n",
        "X = dataset.iloc[:len(y),:]\n",
        "df_test = dataset.iloc[len(y): , : ]"
      ],
      "execution_count": null,
      "outputs": []
    },
    {
      "cell_type": "code",
      "metadata": {
        "id": "ogmbwFoPgZWQ"
      },
      "source": [
        ""
      ],
      "execution_count": null,
      "outputs": []
    },
    {
      "cell_type": "markdown",
      "metadata": {
        "id": "MS_eX6M9OSHf"
      },
      "source": [
        "**<h4> Feature Scaling </h4>**"
      ]
    },
    {
      "cell_type": "code",
      "metadata": {
        "id": "LwW9_vVwfdCI"
      },
      "source": [
        "from sklearn.preprocessing import MinMaxScaler\n",
        "sc_X = MinMaxScaler()\n",
        "sc_test = MinMaxScaler()\n",
        "X=sc_X.fit_transform(X)\n",
        "df_test=sc_test.fit_transform(df_test)"
      ],
      "execution_count": null,
      "outputs": []
    },
    {
      "cell_type": "markdown",
      "metadata": {
        "id": "twjobpHMhb-T"
      },
      "source": [
        "Split Data to train and test"
      ]
    },
    {
      "cell_type": "code",
      "metadata": {
        "id": "K3PfRwHOhRCm"
      },
      "source": [
        "from sklearn.model_selection import train_test_split\n",
        "X_train , X_test , y_train , y_test = train_test_split(X , y , test_size=0.3 , random_state=0)"
      ],
      "execution_count": null,
      "outputs": []
    },
    {
      "cell_type": "markdown",
      "metadata": {
        "id": "UFwpu7y1g69G"
      },
      "source": [
        "**<h3>Build Model</h3>**"
      ]
    },
    {
      "cell_type": "markdown",
      "metadata": {
        "id": "SqsDKxC2ibcY"
      },
      "source": [
        "**Logistic Regression**"
      ]
    },
    {
      "cell_type": "code",
      "metadata": {
        "id": "t6ODPnG_g4sj"
      },
      "source": [
        "from sklearn.linear_model import LogisticRegression\n",
        "from sklearn.metrics import accuracy_score\n",
        "from sklearn.model_selection import cross_val_score\n",
        "logReg = LogisticRegression()\n",
        "logReg.fit(X_train,y_train)\n",
        "logReg_pred = logReg.predict(X_test)\n",
        "#Evalulate Model\n",
        "logReg_acc_score= accuracy_score(y_test,logReg_pred)\n",
        "print('Logistic Regression Score :  ',round(logReg_acc_score,2))\n",
        "## using Cross validation \n",
        "cv = cross_val_score(logReg , X , y, cv=5)\n",
        "print('cross_val_score :  ',round(cv.mean(),2) , '\\n\\n')"
      ],
      "execution_count": null,
      "outputs": []
    },
    {
      "cell_type": "code",
      "metadata": {
        "id": "DepOyeWUjj_k"
      },
      "source": [
        "from sklearn.metrics import  confusion_matrix\n",
        "logReg_accuracy = confusion_matrix(y_test,logReg_pred)\n",
        "print(logReg_accuracy)"
      ],
      "execution_count": null,
      "outputs": []
    },
    {
      "cell_type": "code",
      "metadata": {
        "id": "ompfnrxEkudB"
      },
      "source": [
        "from sklearn.metrics import classification_report\n",
        "print(classification_report(y_test,logReg_pred))"
      ],
      "execution_count": null,
      "outputs": []
    },
    {
      "cell_type": "markdown",
      "metadata": {
        "id": "DGNtQvypwCLU"
      },
      "source": [
        "**K_Nearest Neighbors**"
      ]
    },
    {
      "cell_type": "code",
      "metadata": {
        "id": "D17ugYuqwHw0"
      },
      "source": [
        "from sklearn.neighbors import KNeighborsClassifier\n",
        "knc = KNeighborsClassifier()\n",
        "knc.fit(X,y)\n",
        "knc_pred = knc.predict(df_test)\n",
        "# evaluate accuracy \n",
        "#knc_accuracy = accuracy_score(y_test,knc_pred)\n",
        "#print('KNeighbors Classifier :    ',round(knc_accuracy,2))\n",
        "## using cross validation\n",
        "cv = cross_val_score(knc,X,y,cv=5)\n",
        "print('cross_val_score :    ',round(cv.mean(),2) , '\\n\\n')"
      ],
      "execution_count": null,
      "outputs": []
    },
    {
      "cell_type": "markdown",
      "metadata": {
        "id": "whNJ8nLHm3qy"
      },
      "source": [
        "**SVM**"
      ]
    },
    {
      "cell_type": "code",
      "metadata": {
        "id": "O5g_QUfum8ek"
      },
      "source": [
        "from sklearn.svm import SVC\n",
        "svc = SVC(kernel='rbf' , random_state=0)\n",
        "svc.fit(X_train , y_train)\n",
        "svc_pred = svc.predict(X_test)\n",
        "# evaluate accuracy \n",
        "svc_accuracy = accuracy_score(y_test,knc_pred)\n",
        "print(round(svc_accuracy,2))\n",
        "## using cross validation\n",
        "cv = cross_val_score(svc,X,y,cv=5)\n",
        "print('cross_val_score :    ',round(cv.mean(),2) , '\\n\\n')"
      ],
      "execution_count": null,
      "outputs": []
    },
    {
      "cell_type": "markdown",
      "metadata": {
        "id": "tGXj9Pl-x0Bb"
      },
      "source": [
        "**Naive Bayes**"
      ]
    },
    {
      "cell_type": "code",
      "metadata": {
        "id": "57ovAnrpyi-a"
      },
      "source": [
        "from sklearn.naive_bayes import GaussianNB\n",
        "n_bayes = GaussianNB()\n",
        "n_bayes.fit(X_train ,y_train)\n",
        "n_bayes_pred = n_bayes.predict(X_test)\n",
        "# evaluate accuracy \n",
        "n_bayes_acc = accuracy_score(y_test,n_bayes_pred)\n",
        "print('Naive Bayes:   ',round(n_bayes_acc , 2))\n",
        "## using cross validataion\n",
        "cv = cross_val_score(n_bayes,X,y,cv=5)\n",
        "print('cross_val_score:   ' , round(cv.mean(),2),'\\n\\n')"
      ],
      "execution_count": null,
      "outputs": []
    },
    {
      "cell_type": "markdown",
      "metadata": {
        "id": "faTCAtHTzZFL"
      },
      "source": [
        "**Decision Tree Classifier**"
      ]
    },
    {
      "cell_type": "code",
      "metadata": {
        "id": "qm4_vJrUzkZI"
      },
      "source": [
        "from sklearn.tree import DecisionTreeClassifier\n",
        "tree = DecisionTreeClassifier(criterion = 'entropy',random_state=0)\n",
        "tree.fit(X_train, y_train)\n",
        "tree_pred = tree.predict(X_test)\n",
        "#Evaluate Model\n",
        "tree_acc = accuracy_score(y_test,tree_pred)\n",
        "print('Decision Tree Classifier:    ',round(tree_acc,2))\n",
        "## using cross validataion\n",
        "cv = cross_val_score(tree,X,y,cv=5)\n",
        "print('cross_val_score:   ' , round(cv.mean(),2),'\\n\\n')"
      ],
      "execution_count": null,
      "outputs": []
    },
    {
      "cell_type": "markdown",
      "metadata": {
        "id": "tGFJBDlP0rRv"
      },
      "source": [
        "**Random Forest Classification**"
      ]
    },
    {
      "cell_type": "code",
      "metadata": {
        "id": "KrL8doUC011-"
      },
      "source": [
        "from sklearn.ensemble import RandomForestClassifier\n",
        "ran_forest = RandomForestClassifier(n_estimators=10 , criterion='entropy' , random_state=0)\n",
        "ran_forest.fit(X_train,y_train)\n",
        "ran_forest_pred = ran_forest.predict(X_test)\n",
        "#Evaluate Model\n",
        "ran_forest_acc= accuracy_score(y_test,ran_forest_pred)\n",
        "print('Random Forest :     ',round(ran_forest_acc,2))\n",
        "## using cross validataion\n",
        "cv = cross_val_score(ran_forest,X,y,cv=5)\n",
        "print('cross_val_score:   ' , round(cv.mean(),2),'\\n\\n')"
      ],
      "execution_count": null,
      "outputs": []
    },
    {
      "cell_type": "markdown",
      "metadata": {
        "id": "yifwSF0L9YJM"
      },
      "source": [
        "**<h4>Evaluate Models</h4>**"
      ]
    },
    {
      "cell_type": "code",
      "metadata": {
        "id": "zNP6F53I9er-"
      },
      "source": [
        "models = pd.DataFrame({'Model' : ['Logistic Regression' , 'K_Nearest Neighbors', 'SVM' , 'Naive Bayes' , 'Decision Tree','Random Forest'],\n",
        "                       'Score' : [logReg_acc_score   ,knc_accuracy     ,svc_accuracy, n_bayes_acc  ,  tree_acc       , ran_forest_acc]})\n",
        "models.sort_values(by='Score' , ascending=False)"
      ],
      "execution_count": null,
      "outputs": []
    },
    {
      "cell_type": "markdown",
      "metadata": {
        "id": "Vsw0fFo-_TD2"
      },
      "source": [
        "**Submit Model**"
      ]
    },
    {
      "cell_type": "code",
      "metadata": {
        "id": "IQqExTbe_YEo"
      },
      "source": [
        "#prediction for test data\n",
        "y_pred = knc.predict(df_test)\n",
        "submission = pd.DataFrame({\n",
        "        \"PassengerId\": test[\"PassengerId\"],\n",
        "        \"Survived\": y_pred\n",
        "    })\n",
        "submission.to_csv('titanic_model_v1.csv' , index=False) "
      ],
      "execution_count": null,
      "outputs": []
    }
  ]
}